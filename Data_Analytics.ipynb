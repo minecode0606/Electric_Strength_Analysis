{
 "cells": [
  {
   "cell_type": "markdown",
   "metadata": {
    "collapsed": true,
    "pycharm": {
     "name": "#%% md\n"
    }
   },
   "source": [
    "# 길이가 긴 니크롬선의 전압과 전류 사이의 관계를 학습합니다."
   ]
  },
  {
   "cell_type": "markdown",
   "source": [
    "## 데이터 준비"
   ],
   "metadata": {
    "collapsed": false,
    "pycharm": {
     "name": "#%% md\n"
    }
   }
  },
  {
   "cell_type": "code",
   "execution_count": 119,
   "outputs": [],
   "source": [
    "import pandas as pd\n",
    "import numpy as np\n",
    "filepath = './dataset/short_line.csv'\n",
    "short_df = pd.read_csv(filepath)\n",
    "\n",
    "short_Voltage = np.array(short_df['Voltage'])\n",
    "short_Ampare = np.array([0.04, 0.08, 0.11, 0.15])"
   ],
   "metadata": {
    "collapsed": false,
    "pycharm": {
     "name": "#%%\n"
    }
   }
  },
  {
   "cell_type": "code",
   "execution_count": 120,
   "outputs": [],
   "source": [
    "short_train_input = short_Voltage.reshape(-1, 1)\n",
    "short_train_target = short_Ampare"
   ],
   "metadata": {
    "collapsed": false,
    "pycharm": {
     "name": "#%%\n"
    }
   }
  },
  {
   "cell_type": "markdown",
   "source": [
    "### 실험한 데이터 시각화하기"
   ],
   "metadata": {
    "collapsed": false,
    "pycharm": {
     "name": "#%% md\n"
    }
   }
  },
  {
   "cell_type": "code",
   "execution_count": 121,
   "outputs": [
    {
     "data": {
      "text/plain": "<Figure size 432x288 with 1 Axes>",
      "image/png": "[encoded data removed]"
     },
     "metadata": {
      "needs_background": "light"
     },
     "output_type": "display_data"
    }
   ],
   "source": [
    "import matplotlib.pyplot as plt\n",
    "\n",
    "plt.scatter(short_Voltage, short_Ampare)\n",
    "plt.xlabel('Voltage')\n",
    "plt.ylabel('Ampere')\n",
    "plt.show()"
   ],
   "metadata": {
    "collapsed": false,
    "pycharm": {
     "name": "#%%\n"
    }
   }
  },
  {
   "cell_type": "markdown",
   "source": [
    "실험해본 데이터를 시각화해 보았을때 데이터가 매우 선형적인 것을 확인해 보실수가 있습니다.\n",
    "이제 우리는 이 데이터들을 학습시킨후 시각화를 해 보아서 전압과 전류 사이에 관계를\n",
    "분석해 보도록 하겠습니다."
   ],
   "metadata": {
    "collapsed": false,
    "pycharm": {
     "name": "#%% md\n"
    }
   }
  },
  {
   "cell_type": "markdown",
   "source": [
    "## 긴 니크롬선의 전압과 전류 사이의 관계를 나타내는 직선을 학습하기"
   ],
   "metadata": {
    "collapsed": false,
    "pycharm": {
     "name": "#%% md\n"
    }
   }
  },
  {
   "cell_type": "markdown",
   "source": [
    "#### 데이터 분석\n",
    "위 산점도는 매우 선형적인 모양이므로 우리는 위 데이터를 1차함수를 활용하여 학습하도록 하겠습니다.\n"
   ],
   "metadata": {
    "collapsed": false
   }
  },
  {
   "cell_type": "code",
   "execution_count": 122,
   "outputs": [
    {
     "data": {
      "text/plain": "LinearRegression()"
     },
     "execution_count": 122,
     "metadata": {},
     "output_type": "execute_result"
    }
   ],
   "source": [
    "from sklearn.linear_model import LinearRegression\n",
    "\n",
    "short_lr = LinearRegression()\n",
    "\n",
    "short_lr.fit(short_train_input, short_train_target)"
   ],
   "metadata": {
    "collapsed": false,
    "pycharm": {
     "name": "#%%\n"
    }
   }
  },
  {
   "cell_type": "markdown",
   "source": [
    "### 학습한 직선 그래프로 나타내기"
   ],
   "metadata": {
    "collapsed": false,
    "pycharm": {
     "name": "#%% md\n"
    }
   }
  },
  {
   "cell_type": "code",
   "execution_count": 123,
   "outputs": [
    {
     "name": "stdout",
     "output_type": "stream",
     "text": [
      "[0.024] 0.005000000000000018\n"
     ]
    }
   ],
   "source": [
    "print(short_lr.coef_, short_lr.intercept_)"
   ],
   "metadata": {
    "collapsed": false,
    "pycharm": {
     "name": "#%%\n"
    }
   }
  },
  {
   "cell_type": "code",
   "execution_count": 124,
   "outputs": [
    {
     "data": {
      "text/plain": "<Figure size 432x288 with 1 Axes>",
      "image/png": "[encoded data removed]"
     },
     "metadata": {
      "needs_background": "light"
     },
     "output_type": "display_data"
    }
   ],
   "source": [
    "plt.scatter(short_Voltage, short_Ampare, color='red')\n",
    "plt.plot([0, 6], [0*short_lr.coef_ + short_lr.intercept_, 6*short_lr.coef_+short_lr.intercept_], 'r')\n",
    "plt.xlabel('Voltage')\n",
    "plt.ylabel('Ampere')\n",
    "plt.show()"
   ],
   "metadata": {
    "collapsed": false,
    "pycharm": {
     "name": "#%%\n"
    }
   }
  },
  {
   "cell_type": "markdown",
   "source": [
    "성공적으로 길이가 긴 니크롬선의 전류를 흘려 보냈을때 전압과 전류 사이의 관계를 학습했습니다.\n",
    "\n",
    "위에 직선을 보았을때 위 직선은 일차함수의 그래프 이므로 전압과 전류의 세기는 비례한다라는걸\n",
    "증명할수 있습니다."
   ],
   "metadata": {
    "collapsed": false,
    "pycharm": {
     "name": "#%% md\n"
    }
   }
  },
  {
   "cell_type": "markdown",
   "source": [
    "# 길이가 짧은 니크롬선의 전압과 전류 사이의 관계를 학습합니다.\n"
   ],
   "metadata": {
    "collapsed": false,
    "pycharm": {
     "name": "#%% md\n"
    }
   }
  },
  {
   "cell_type": "markdown",
   "source": [
    "## 데이터 준비"
   ],
   "metadata": {
    "collapsed": false,
    "pycharm": {
     "name": "#%% md\n"
    }
   }
  },
  {
   "cell_type": "code",
   "source": [
    "filepath = './dataset/long_line.csv'\n",
    "long_df = pd.read_csv(filepath)\n",
    "\n",
    "long_Voltage = np.array(short_df['Voltage'])\n",
    "long_Ampare = np.array([0.08, 0.15, 0.22, 0.30])\n",
    "\n",
    "long_train_input = long_Voltage.reshape(-1, 1)\n",
    "long_train_target = long_Ampare"
   ],
   "metadata": {
    "collapsed": false,
    "pycharm": {
     "name": "#%%\n"
    }
   },
   "execution_count": 125,
   "outputs": []
  },
  {
   "cell_type": "markdown",
   "source": [
    "### 실험한 데이터 시각화하기"
   ],
   "metadata": {
    "collapsed": false,
    "pycharm": {
     "name": "#%% md\n"
    }
   }
  },
  {
   "cell_type": "code",
   "execution_count": 126,
   "outputs": [
    {
     "data": {
      "text/plain": "<Figure size 432x288 with 1 Axes>",
      "image/png": "[encoded data removed]"
     },
     "metadata": {
      "needs_background": "light"
     },
     "output_type": "display_data"
    }
   ],
   "source": [
    "plt.scatter(long_train_input, long_train_target)\n",
    "plt.xlabel('Voltage')\n",
    "plt.ylabel('Ampere')\n",
    "plt.show()"
   ],
   "metadata": {
    "collapsed": false,
    "pycharm": {
     "name": "#%%\n"
    }
   }
  },
  {
   "cell_type": "markdown",
   "source": [
    "마찬가지로 이 산점도도 매우 선형적인 그래프를 가지고 있으므로 일차함수를 사용하여\n",
    "모델을 학습하도록 하겠습니다."
   ],
   "metadata": {
    "collapsed": false
   }
  },
  {
   "cell_type": "markdown",
   "source": [
    "## 모델 학습하기"
   ],
   "metadata": {
    "collapsed": false,
    "pycharm": {
     "name": "#%% md\n"
    }
   }
  },
  {
   "cell_type": "code",
   "source": [
    "long_lr = LinearRegression()\n",
    "long_lr.fit(long_train_input, long_train_target)\n"
   ],
   "metadata": {
    "collapsed": false,
    "pycharm": {
     "name": "#%%\n"
    }
   },
   "execution_count": 127,
   "outputs": [
    {
     "data": {
      "text/plain": "LinearRegression()"
     },
     "execution_count": 127,
     "metadata": {},
     "output_type": "execute_result"
    }
   ]
  },
  {
   "cell_type": "markdown",
   "source": [
    "### 학습한 직선 시각화하기"
   ],
   "metadata": {
    "collapsed": false,
    "pycharm": {
     "name": "#%% md\n"
    }
   }
  },
  {
   "cell_type": "code",
   "execution_count": 128,
   "outputs": [
    {
     "name": "stdout",
     "output_type": "stream",
     "text": [
      "[0.04866667] 0.0050000000000000044\n"
     ]
    }
   ],
   "source": [
    "print(long_lr.coef_, long_lr.intercept_)"
   ],
   "metadata": {
    "collapsed": false,
    "pycharm": {
     "name": "#%%\n"
    }
   }
  },
  {
   "cell_type": "code",
   "execution_count": 129,
   "outputs": [
    {
     "data": {
      "text/plain": "<Figure size 432x288 with 1 Axes>",
      "image/png": "[encoded data removed]"
     },
     "metadata": {
      "needs_background": "light"
     },
     "output_type": "display_data"
    }
   ],
   "source": [
    "plt.title('Voltage and Ampare Amalysis')\n",
    "plt.scatter(short_Voltage, short_Ampare, color='red')\n",
    "plt.scatter(long_Voltage, long_Ampare)\n",
    "plt.plot([0, 6], [0*short_lr.coef_ + short_lr.intercept_, 6*short_lr.coef_+short_lr.intercept_], 'r')\n",
    "plt.plot([0, 6], [0*long_lr.coef_ + long_lr.intercept_, 6*long_lr.coef_+long_lr.intercept_])\n",
    "plt.xlabel('Voltage')\n",
    "plt.ylabel('Ampere')\n",
    "plt.show()"
   ],
   "metadata": {
    "collapsed": false,
    "pycharm": {
     "name": "#%%\n"
    }
   }
  },
  {
   "cell_type": "markdown",
   "source": [
    "위 그래프로 우리가 알수있는것은 전기 회로에서 전압과 전류는 비례한다. 이때 전압이 일정하면\n",
    "니크롬선의 길이와 전류의 세기는 반비례한다. 라는것을 알수 있습니다."
   ],
   "metadata": {
    "collapsed": false,
    "pycharm": {
     "name": "#%% md\n"
    }
   }
  },
  {
   "cell_type": "markdown",
   "source": [
    "# 옴의 법칙"
   ],
   "metadata": {
    "collapsed": false
   }
  },
  {
   "cell_type": "markdown",
   "source": [
    "![vm_sc3012_04_i01.jpg](data:image/jpeg;base64,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)"
   ],
   "metadata": {
    "collapsed": false
   }
  },
  {
   "cell_type": "markdown",
   "source": [
    "위 함수를 활용하여"
   ],
   "metadata": {
    "collapsed": false
   }
  }
 ],
 "metadata": {
  "kernelspec": {
   "display_name": "Python 3",
   "language": "python",
   "name": "python3"
  },
  "language_info": {
   "codemirror_mode": {
    "name": "ipython",
    "version": 2
   },
   "file_extension": ".py",
   "mimetype": "text/x-python",
   "name": "python",
   "nbconvert_exporter": "python",
   "pygments_lexer": "ipython2",
   "version": "2.7.6"
  }
 },
 "nbformat": 4,
 "nbformat_minor": 0
}